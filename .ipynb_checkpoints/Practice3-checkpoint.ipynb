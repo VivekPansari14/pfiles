{
 "cells": [
  {
   "cell_type": "markdown",
   "id": "cdfd0633",
   "metadata": {},
   "source": [
    "# Methods"
   ]
  },
  {
   "cell_type": "code",
   "execution_count": 1,
   "id": "722b172d",
   "metadata": {},
   "outputs": [],
   "source": [
    "mylist=[1,2,3]"
   ]
  },
  {
   "cell_type": "code",
   "execution_count": 2,
   "id": "b812ba16",
   "metadata": {},
   "outputs": [],
   "source": [
    "mylist.append(4)"
   ]
  },
  {
   "cell_type": "code",
   "execution_count": 3,
   "id": "e702d8d3",
   "metadata": {},
   "outputs": [
    {
     "data": {
      "text/plain": [
       "[1, 2, 3, 4]"
      ]
     },
     "execution_count": 3,
     "metadata": {},
     "output_type": "execute_result"
    }
   ],
   "source": [
    "mylist\n"
   ]
  },
  {
   "cell_type": "code",
   "execution_count": 5,
   "id": "bd373307",
   "metadata": {},
   "outputs": [],
   "source": [
    "mylist.append('5')"
   ]
  },
  {
   "cell_type": "code",
   "execution_count": 9,
   "id": "b6e0abc8",
   "metadata": {},
   "outputs": [],
   "source": [
    "mylist.insert(2,3)"
   ]
  },
  {
   "cell_type": "code",
   "execution_count": 10,
   "id": "36c86a7c",
   "metadata": {},
   "outputs": [
    {
     "data": {
      "text/plain": [
       "[1, 2, 3, 3, 4, '5']"
      ]
     },
     "execution_count": 10,
     "metadata": {},
     "output_type": "execute_result"
    }
   ],
   "source": [
    "mylist"
   ]
  },
  {
   "cell_type": "markdown",
   "id": "94a0b4bd",
   "metadata": {},
   "source": [
    "# Functions"
   ]
  },
  {
   "cell_type": "code",
   "execution_count": 20,
   "id": "b5493f4d",
   "metadata": {},
   "outputs": [],
   "source": [
    "def new_func(num1,num2):\n",
    "    return num1+num2\n",
    "\n",
    "#argumented functions\n",
    "    "
   ]
  },
  {
   "cell_type": "code",
   "execution_count": 13,
   "id": "0707deda",
   "metadata": {},
   "outputs": [
    {
     "data": {
      "text/plain": [
       "3"
      ]
     },
     "execution_count": 13,
     "metadata": {},
     "output_type": "execute_result"
    }
   ],
   "source": [
    "new_func(1,2)"
   ]
  },
  {
   "cell_type": "code",
   "execution_count": 16,
   "id": "55813f99",
   "metadata": {},
   "outputs": [],
   "source": [
    "def say_hello():\n",
    "    print('hello')\n",
    "    print('hi')"
   ]
  },
  {
   "cell_type": "code",
   "execution_count": 18,
   "id": "ce118656",
   "metadata": {},
   "outputs": [
    {
     "data": {
      "text/plain": [
       "<function __main__.say_hello()>"
      ]
     },
     "execution_count": 18,
     "metadata": {},
     "output_type": "execute_result"
    }
   ],
   "source": [
    "say_hello"
   ]
  },
  {
   "cell_type": "code",
   "execution_count": 19,
   "id": "f2e7cce3",
   "metadata": {},
   "outputs": [
    {
     "name": "stdout",
     "output_type": "stream",
     "text": [
      "hello\n",
      "hi\n"
     ]
    }
   ],
   "source": [
    "say_hello()"
   ]
  },
  {
   "cell_type": "code",
   "execution_count": 21,
   "id": "3bd12895",
   "metadata": {},
   "outputs": [],
   "source": [
    " def say_hello(name):\n",
    "    print(f'hello {name}')\n",
    "    print('hi')"
   ]
  },
  {
   "cell_type": "code",
   "execution_count": 22,
   "id": "dddfeaf6",
   "metadata": {},
   "outputs": [
    {
     "name": "stdout",
     "output_type": "stream",
     "text": [
      "hello vivek\n",
      "hi\n"
     ]
    }
   ],
   "source": [
    "say_hello('vivek')"
   ]
  },
  {
   "cell_type": "code",
   "execution_count": 23,
   "id": "0178a7ad",
   "metadata": {},
   "outputs": [],
   "source": [
    "def add_num(n1,n2):\n",
    "    return n1+n2\n"
   ]
  },
  {
   "cell_type": "code",
   "execution_count": 25,
   "id": "88febf2c",
   "metadata": {},
   "outputs": [],
   "source": [
    "x=add_num(1,5)"
   ]
  },
  {
   "cell_type": "code",
   "execution_count": 26,
   "id": "df9d1c7f",
   "metadata": {},
   "outputs": [
    {
     "data": {
      "text/plain": [
       "6"
      ]
     },
     "execution_count": 26,
     "metadata": {},
     "output_type": "execute_result"
    }
   ],
   "source": [
    "x"
   ]
  },
  {
   "cell_type": "code",
   "execution_count": 1,
   "id": "22fa59ba",
   "metadata": {},
   "outputs": [
    {
     "data": {
      "text/plain": [
       "0"
      ]
     },
     "execution_count": 1,
     "metadata": {},
     "output_type": "execute_result"
    }
   ],
   "source": [
    "2%2"
   ]
  },
  {
   "cell_type": "code",
   "execution_count": 3,
   "id": "b6d38821",
   "metadata": {},
   "outputs": [],
   "source": [
    "def  even_check(num):\n",
    "    return num%2==0"
   ]
  },
  {
   "cell_type": "code",
   "execution_count": 5,
   "id": "32192d10",
   "metadata": {},
   "outputs": [
    {
     "data": {
      "text/plain": [
       "False"
      ]
     },
     "execution_count": 5,
     "metadata": {},
     "output_type": "execute_result"
    }
   ],
   "source": [
    "even_check(5)"
   ]
  },
  {
   "cell_type": "code",
   "execution_count": 8,
   "id": "c890f8d1",
   "metadata": {},
   "outputs": [],
   "source": [
    " def  even_check_list(num_list):\n",
    "    for num in num_list:\n",
    "        if num%2==0:\n",
    "            return True\n",
    "        else:\n",
    "            pass\n",
    "    return False"
   ]
  },
  {
   "cell_type": "code",
   "execution_count": 9,
   "id": "4f94635f",
   "metadata": {},
   "outputs": [
    {
     "data": {
      "text/plain": [
       "True"
      ]
     },
     "execution_count": 9,
     "metadata": {},
     "output_type": "execute_result"
    }
   ],
   "source": [
    "mylist=[1,5,73,8,3,9,4]\n",
    "even_check_list(mylist)"
   ]
  },
  {
   "cell_type": "code",
   "execution_count": 10,
   "id": "10d471f0",
   "metadata": {},
   "outputs": [],
   "source": [
    "#return all the even numbers\n",
    "\n",
    "#placeholders variables\n",
    "even_list=[]\n",
    "\n",
    "def  even_check_list(num_list):\n",
    "    for num in num_list:\n",
    "        if num%2==0:\n",
    "            even_list.append(num)\n",
    "        else:\n",
    "            pass\n",
    "    return even_list"
   ]
  },
  {
   "cell_type": "code",
   "execution_count": 11,
   "id": "bc453b60",
   "metadata": {},
   "outputs": [
    {
     "data": {
      "text/plain": [
       "[2, 4, 6, 78, 4]"
      ]
     },
     "execution_count": 11,
     "metadata": {},
     "output_type": "execute_result"
    }
   ],
   "source": [
    "even_check_list([1,2,3,4,5,6,78,93,4,])"
   ]
  },
  {
   "cell_type": "markdown",
   "id": "212e122a",
   "metadata": {},
   "source": [
    "# Tuple unpacking with Pfunc\n"
   ]
  },
  {
   "cell_type": "code",
   "execution_count": 15,
   "id": "818cc933",
   "metadata": {},
   "outputs": [],
   "source": [
    "#lets make a tuple list\n",
    "work_hrs=[('vivek',5000), ('sruti',600),('bandar', 800)]\n"
   ]
  },
  {
   "cell_type": "code",
   "execution_count": 20,
   "id": "4a73ebe0",
   "metadata": {},
   "outputs": [],
   "source": [
    "def employee_check(work_hrs):\n",
    "    \n",
    "    max_hrs=0\n",
    "    employee_of_month= ''\n",
    "    \n",
    "    for emp, hrs in work_hrs:\n",
    "        if hrs>max_hrs:\n",
    "            max_hrs=hrs\n",
    "            employee_of_month=emp\n",
    "    \n",
    "    return employee_of_month, work_hrs"
   ]
  },
  {
   "cell_type": "code",
   "execution_count": 21,
   "id": "50600e87",
   "metadata": {},
   "outputs": [],
   "source": [
    "name, hrs= employee_check(work_hrs)"
   ]
  },
  {
   "cell_type": "code",
   "execution_count": 22,
   "id": "34a7fe58",
   "metadata": {},
   "outputs": [
    {
     "data": {
      "text/plain": [
       "'vivek'"
      ]
     },
     "execution_count": 22,
     "metadata": {},
     "output_type": "execute_result"
    }
   ],
   "source": [
    "name"
   ]
  },
  {
   "cell_type": "markdown",
   "id": "698c1b06",
   "metadata": {},
   "source": [
    "# Interactions with Pfunc (Three cup monte game)"
   ]
  },
  {
   "cell_type": "code",
   "execution_count": 24,
   "id": "7918f180",
   "metadata": {},
   "outputs": [],
   "source": [
    "newlist= [1,2,3,4,5,6,7,8,9,0]\n"
   ]
  },
  {
   "cell_type": "code",
   "execution_count": 26,
   "id": "ec7b2f60",
   "metadata": {},
   "outputs": [],
   "source": [
    "from random import shuffle\n",
    "\n",
    "#shuffle doesnt store any value so we need to create our own func"
   ]
  },
  {
   "cell_type": "code",
   "execution_count": 27,
   "id": "30542dc8",
   "metadata": {},
   "outputs": [],
   "source": [
    "def shuffle_list(mylist):\n",
    "    shuffle(mylist)\n",
    "    return mylist\n",
    "    "
   ]
  },
  {
   "cell_type": "code",
   "execution_count": 33,
   "id": "d1c0c25a",
   "metadata": {},
   "outputs": [],
   "source": [
    "result= shuffle_list(newlist)"
   ]
  },
  {
   "cell_type": "code",
   "execution_count": 34,
   "id": "b11d8b16",
   "metadata": {},
   "outputs": [
    {
     "data": {
      "text/plain": [
       "[5, 7, 1, 6, 8, 3, 9, 2, 0, 4]"
      ]
     },
     "execution_count": 34,
     "metadata": {},
     "output_type": "execute_result"
    }
   ],
   "source": [
    "result"
   ]
  },
  {
   "cell_type": "code",
   "execution_count": 35,
   "id": "9f985c3f",
   "metadata": {},
   "outputs": [],
   "source": [
    "#three cups monte\n",
    "\n",
    "cups=['', 'O', '']"
   ]
  },
  {
   "cell_type": "code",
   "execution_count": 36,
   "id": "139bf616",
   "metadata": {},
   "outputs": [
    {
     "data": {
      "text/plain": [
       "['O', '', '']"
      ]
     },
     "execution_count": 36,
     "metadata": {},
     "output_type": "execute_result"
    }
   ],
   "source": [
    "shuffle_list(cups)"
   ]
  },
  {
   "cell_type": "code",
   "execution_count": 38,
   "id": "b465647a",
   "metadata": {},
   "outputs": [],
   "source": [
    "def player_guess():\n",
    "    \n",
    "    guess=''\n",
    "    while guess not in ['0','1','2']:\n",
    "        guess = input('pick a number from 1,2,0: ') \n",
    "        \n",
    "    return int(guess)"
   ]
  },
  {
   "cell_type": "code",
   "execution_count": 41,
   "id": "ace7e74a",
   "metadata": {},
   "outputs": [
    {
     "name": "stdout",
     "output_type": "stream",
     "text": [
      "pick a number from 1,2,0: 0\n"
     ]
    }
   ],
   "source": [
    "myindex= player_guess()"
   ]
  },
  {
   "cell_type": "code",
   "execution_count": 42,
   "id": "109b9772",
   "metadata": {},
   "outputs": [
    {
     "data": {
      "text/plain": [
       "0"
      ]
     },
     "execution_count": 42,
     "metadata": {},
     "output_type": "execute_result"
    }
   ],
   "source": [
    "myindex"
   ]
  },
  {
   "cell_type": "code",
   "execution_count": 43,
   "id": "fa7aa28a",
   "metadata": {},
   "outputs": [],
   "source": [
    "def check_guess(cups, guess):\n",
    "    if cups[guess]=='O':\n",
    "        print('correct Baby')\n",
    "    else:\n",
    "        print('Incorrect')\n",
    "        print(cups)"
   ]
  },
  {
   "cell_type": "code",
   "execution_count": 44,
   "id": "a2104ab2",
   "metadata": {},
   "outputs": [
    {
     "name": "stdout",
     "output_type": "stream",
     "text": [
      "pick a number from 1,2,0: 9\n",
      "pick a number from 1,2,0: 2\n",
      "Incorrect\n",
      "['O', ' ', ' ']\n"
     ]
    }
   ],
   "source": [
    "# Initial List\n",
    "cups = [' ',' ','O']\n",
    "\n",
    "# Shuffle It\n",
    "mix_list = shuffle_list(cups)\n",
    "\n",
    "# Get User's Guess\n",
    "guess = player_guess()\n",
    "\n",
    "# Check User's Guess\n",
    "#------------------------\n",
    "# Notice how this function takes in the input \n",
    "# based on the output of other functions!\n",
    "check_guess(mix_list,guess)"
   ]
  },
  {
   "cell_type": "code",
   "execution_count": null,
   "id": "5d22f480",
   "metadata": {},
   "outputs": [],
   "source": []
  }
 ],
 "metadata": {
  "kernelspec": {
   "display_name": "Python 3 (ipykernel)",
   "language": "python",
   "name": "python3"
  },
  "language_info": {
   "codemirror_mode": {
    "name": "ipython",
    "version": 3
   },
   "file_extension": ".py",
   "mimetype": "text/x-python",
   "name": "python",
   "nbconvert_exporter": "python",
   "pygments_lexer": "ipython3",
   "version": "3.10.9"
  }
 },
 "nbformat": 4,
 "nbformat_minor": 5
}
