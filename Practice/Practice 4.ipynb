{
 "cells": [
  {
   "cell_type": "code",
   "execution_count": 6,
   "metadata": {},
   "outputs": [
    {
     "name": "stdout",
     "output_type": "stream",
     "text": [
      "its okay\n",
      "20\n"
     ]
    }
   ],
   "source": [
    "#error handling\n",
    "try:\n",
    "    #want to attempt this code\n",
    "    #may have an error\n",
    "    #result= 10+'10'\n",
    "    result=10+10\n",
    "except:\n",
    "    print('add properperly u dumbass')\n",
    "else:\n",
    "    print('its okay')\n",
    "    print(result)"
   ]
  },
  {
   "cell_type": "code",
   "execution_count": 24,
   "metadata": {},
   "outputs": [
    {
     "name": "stdout",
     "output_type": "stream",
     "text": [
      "all other errors exceptions\n",
      "i can run anytime\n"
     ]
    }
   ],
   "source": [
    "try:\n",
    "    f= open('myfile',mode='r')\n",
    "    f.write(\"hii you\")\n",
    "except TypeError: #error exception is specified.. useful\n",
    "    print('yoyo')\n",
    "except:\n",
    "    print('all other errors exceptions')\n",
    "finally:\n",
    "    print('i can run anytime')"
   ]
  },
  {
   "cell_type": "code",
   "execution_count": null,
   "metadata": {},
   "outputs": [],
   "source": []
  }
 ],
 "metadata": {
  "kernelspec": {
   "display_name": "Python 3",
   "language": "python",
   "name": "python3"
  },
  "language_info": {
   "codemirror_mode": {
    "name": "ipython",
    "version": 3
   },
   "file_extension": ".py",
   "mimetype": "text/x-python",
   "name": "python",
   "nbconvert_exporter": "python",
   "pygments_lexer": "ipython3",
   "version": "3.11.4"
  },
  "orig_nbformat": 4
 },
 "nbformat": 4,
 "nbformat_minor": 2
}
