{
 "cells": [
  {
   "attachments": {},
   "cell_type": "markdown",
   "id": "cdfd0633",
   "metadata": {},
   "source": [
    "# Methods"
   ]
  },
  {
   "cell_type": "code",
   "execution_count": 1,
   "id": "722b172d",
   "metadata": {},
   "outputs": [],
   "source": [
    "mylist=[1,2,3]"
   ]
  },
  {
   "cell_type": "code",
   "execution_count": 2,
   "id": "b812ba16",
   "metadata": {},
   "outputs": [],
   "source": [
    "mylist.append(4)"
   ]
  },
  {
   "cell_type": "code",
   "execution_count": 3,
   "id": "e702d8d3",
   "metadata": {},
   "outputs": [
    {
     "data": {
      "text/plain": [
       "[1, 2, 3, 4]"
      ]
     },
     "execution_count": 3,
     "metadata": {},
     "output_type": "execute_result"
    }
   ],
   "source": [
    "mylist\n"
   ]
  },
  {
   "cell_type": "code",
   "execution_count": 5,
   "id": "bd373307",
   "metadata": {},
   "outputs": [],
   "source": [
    "mylist.append('5')"
   ]
  },
  {
   "cell_type": "code",
   "execution_count": 9,
   "id": "b6e0abc8",
   "metadata": {},
   "outputs": [],
   "source": [
    "mylist.insert(2,3)"
   ]
  },
  {
   "cell_type": "code",
   "execution_count": 10,
   "id": "36c86a7c",
   "metadata": {},
   "outputs": [
    {
     "data": {
      "text/plain": [
       "[1, 2, 3, 3, 4, '5']"
      ]
     },
     "execution_count": 10,
     "metadata": {},
     "output_type": "execute_result"
    }
   ],
   "source": [
    "mylist"
   ]
  },
  {
   "attachments": {},
   "cell_type": "markdown",
   "id": "94a0b4bd",
   "metadata": {},
   "source": [
    "# Functions"
   ]
  },
  {
   "cell_type": "code",
   "execution_count": 1,
   "id": "b5493f4d",
   "metadata": {},
   "outputs": [],
   "source": [
    "def new_func(num1,num2):\n",
    "    return num1+num2\n",
    "\n",
    "#argumented functions\n",
    "    "
   ]
  },
  {
   "cell_type": "code",
   "execution_count": 2,
   "id": "0707deda",
   "metadata": {},
   "outputs": [
    {
     "data": {
      "text/plain": [
       "3"
      ]
     },
     "execution_count": 2,
     "metadata": {},
     "output_type": "execute_result"
    }
   ],
   "source": [
    "new_func(1,2)"
   ]
  },
  {
   "cell_type": "code",
   "execution_count": 1,
   "id": "55813f99",
   "metadata": {},
   "outputs": [],
   "source": [
    "def say_hello():\n",
    "    print('hello')\n",
    "    print('hi')"
   ]
  },
  {
   "cell_type": "code",
   "execution_count": 2,
   "id": "ce118656",
   "metadata": {},
   "outputs": [
    {
     "data": {
      "text/plain": [
       "<function __main__.say_hello()>"
      ]
     },
     "execution_count": 2,
     "metadata": {},
     "output_type": "execute_result"
    }
   ],
   "source": [
    "say_hello"
   ]
  },
  {
   "cell_type": "code",
   "execution_count": 3,
   "id": "f2e7cce3",
   "metadata": {},
   "outputs": [
    {
     "name": "stdout",
     "output_type": "stream",
     "text": [
      "hello\n",
      "hi\n"
     ]
    }
   ],
   "source": [
    "say_hello()"
   ]
  },
  {
   "cell_type": "code",
   "execution_count": 4,
   "id": "3bd12895",
   "metadata": {},
   "outputs": [],
   "source": [
    " def say_hello(name):\n",
    "    print(f'hello {name}')\n",
    "    print('hi')"
   ]
  },
  {
   "cell_type": "code",
   "execution_count": 5,
   "id": "dddfeaf6",
   "metadata": {},
   "outputs": [
    {
     "name": "stdout",
     "output_type": "stream",
     "text": [
      "hello vivek\n",
      "hi\n"
     ]
    }
   ],
   "source": [
    "say_hello('vivek')"
   ]
  },
  {
   "cell_type": "code",
   "execution_count": 6,
   "id": "0178a7ad",
   "metadata": {},
   "outputs": [],
   "source": [
    "def add_num(n1,n2):\n",
    "    return n1+n2\n"
   ]
  },
  {
   "cell_type": "code",
   "execution_count": 7,
   "id": "88febf2c",
   "metadata": {},
   "outputs": [],
   "source": [
    "x=add_num(1,5)"
   ]
  },
  {
   "cell_type": "code",
   "execution_count": 8,
   "id": "df9d1c7f",
   "metadata": {},
   "outputs": [
    {
     "data": {
      "text/plain": [
       "6"
      ]
     },
     "execution_count": 8,
     "metadata": {},
     "output_type": "execute_result"
    }
   ],
   "source": [
    "x"
   ]
  },
  {
   "cell_type": "code",
   "execution_count": 9,
   "id": "22fa59ba",
   "metadata": {},
   "outputs": [
    {
     "data": {
      "text/plain": [
       "0"
      ]
     },
     "execution_count": 9,
     "metadata": {},
     "output_type": "execute_result"
    }
   ],
   "source": [
    "2%2"
   ]
  },
  {
   "cell_type": "code",
   "execution_count": 10,
   "id": "b6d38821",
   "metadata": {},
   "outputs": [],
   "source": [
    "def  even_check(num):\n",
    "    return num%2==0"
   ]
  },
  {
   "cell_type": "code",
   "execution_count": 11,
   "id": "32192d10",
   "metadata": {},
   "outputs": [
    {
     "data": {
      "text/plain": [
       "False"
      ]
     },
     "execution_count": 11,
     "metadata": {},
     "output_type": "execute_result"
    }
   ],
   "source": [
    "even_check(5)"
   ]
  },
  {
   "cell_type": "code",
   "execution_count": 12,
   "id": "c890f8d1",
   "metadata": {},
   "outputs": [],
   "source": [
    " def  even_check_list(num_list):\n",
    "    for num in num_list:\n",
    "        if num%2==0:\n",
    "            return True\n",
    "        else:\n",
    "            pass\n",
    "    return False"
   ]
  },
  {
   "cell_type": "code",
   "execution_count": 13,
   "id": "4f94635f",
   "metadata": {},
   "outputs": [
    {
     "data": {
      "text/plain": [
       "True"
      ]
     },
     "execution_count": 13,
     "metadata": {},
     "output_type": "execute_result"
    }
   ],
   "source": [
    "mylist=[1,5,73,8,3,9,4]\n",
    "even_check_list(mylist)"
   ]
  },
  {
   "cell_type": "code",
   "execution_count": 10,
   "id": "10d471f0",
   "metadata": {},
   "outputs": [],
   "source": [
    "#return all the even numbers\n",
    "\n",
    "#placeholders variables\n",
    "even_list=[]\n",
    "\n",
    "def  even_check_list(num_list):\n",
    "    for num in num_list:\n",
    "        if num%2==0:\n",
    "            even_list.append(num)\n",
    "        else:\n",
    "            pass\n",
    "    return even_list"
   ]
  },
  {
   "cell_type": "code",
   "execution_count": 11,
   "id": "bc453b60",
   "metadata": {},
   "outputs": [
    {
     "data": {
      "text/plain": [
       "[2, 4, 6, 78, 4]"
      ]
     },
     "execution_count": 11,
     "metadata": {},
     "output_type": "execute_result"
    }
   ],
   "source": [
    "even_check_list([1,2,3,4,5,6,78,93,4,])"
   ]
  },
  {
   "attachments": {},
   "cell_type": "markdown",
   "id": "212e122a",
   "metadata": {},
   "source": [
    "# Tuple unpacking with Pfunc\n"
   ]
  },
  {
   "cell_type": "code",
   "execution_count": 15,
   "id": "818cc933",
   "metadata": {},
   "outputs": [],
   "source": [
    "#lets make a tuple list\n",
    "work_hrs=[('vivek',5000), ('sruti',600),('bandar', 800)]\n"
   ]
  },
  {
   "cell_type": "code",
   "execution_count": 20,
   "id": "4a73ebe0",
   "metadata": {},
   "outputs": [],
   "source": [
    "def employee_check(work_hrs):\n",
    "    \n",
    "    max_hrs=0\n",
    "    employee_of_month= ''\n",
    "    \n",
    "    for emp, hrs in work_hrs:\n",
    "        if hrs>max_hrs:\n",
    "            max_hrs=hrs\n",
    "            employee_of_month=emp\n",
    "    \n",
    "    return employee_of_month, work_hrs"
   ]
  },
  {
   "cell_type": "code",
   "execution_count": 21,
   "id": "50600e87",
   "metadata": {},
   "outputs": [],
   "source": [
    "name, hrs= employee_check(work_hrs)"
   ]
  },
  {
   "cell_type": "code",
   "execution_count": 22,
   "id": "34a7fe58",
   "metadata": {},
   "outputs": [
    {
     "data": {
      "text/plain": [
       "'vivek'"
      ]
     },
     "execution_count": 22,
     "metadata": {},
     "output_type": "execute_result"
    }
   ],
   "source": [
    "name"
   ]
  },
  {
   "attachments": {},
   "cell_type": "markdown",
   "id": "698c1b06",
   "metadata": {},
   "source": [
    "# Interactions with Pfunc (Three cup monte game)"
   ]
  },
  {
   "cell_type": "code",
   "execution_count": 1,
   "id": "7918f180",
   "metadata": {},
   "outputs": [],
   "source": [
    "newlist= [1,2,3,4,5,6,7,8,9,0]\n"
   ]
  },
  {
   "cell_type": "code",
   "execution_count": 3,
   "id": "ec7b2f60",
   "metadata": {},
   "outputs": [],
   "source": [
    "from random import shuffle\n",
    "\n",
    "#shuffle doesnt store any value so we need to create our own func"
   ]
  },
  {
   "cell_type": "code",
   "execution_count": 4,
   "id": "30542dc8",
   "metadata": {},
   "outputs": [],
   "source": [
    "def shuffle_list(mylist):\n",
    "    shuffle(mylist)\n",
    "    return mylist\n",
    "    "
   ]
  },
  {
   "cell_type": "code",
   "execution_count": 5,
   "id": "d1c0c25a",
   "metadata": {},
   "outputs": [],
   "source": [
    "result= shuffle_list(newlist)"
   ]
  },
  {
   "cell_type": "code",
   "execution_count": 6,
   "id": "b11d8b16",
   "metadata": {},
   "outputs": [
    {
     "data": {
      "text/plain": [
       "[8, 6, 1, 4, 2, 7, 5, 3, 9, 0]"
      ]
     },
     "execution_count": 6,
     "metadata": {},
     "output_type": "execute_result"
    }
   ],
   "source": [
    "result"
   ]
  },
  {
   "cell_type": "code",
   "execution_count": 7,
   "id": "9f985c3f",
   "metadata": {},
   "outputs": [],
   "source": [
    "#three cups monte\n",
    "\n",
    "cups=['', 'O', '']"
   ]
  },
  {
   "cell_type": "code",
   "execution_count": 8,
   "id": "139bf616",
   "metadata": {},
   "outputs": [
    {
     "data": {
      "text/plain": [
       "['O', '', '']"
      ]
     },
     "execution_count": 8,
     "metadata": {},
     "output_type": "execute_result"
    }
   ],
   "source": [
    "shuffle_list(cups)"
   ]
  },
  {
   "cell_type": "code",
   "execution_count": 9,
   "id": "b465647a",
   "metadata": {},
   "outputs": [],
   "source": [
    "def player_guess():\n",
    "    \n",
    "    guess=''\n",
    "    while guess not in ['0','1','2']:\n",
    "        guess = input('pick a number from 1,2,0: ') \n",
    "        \n",
    "    return int(guess)"
   ]
  },
  {
   "cell_type": "code",
   "execution_count": 10,
   "id": "ace7e74a",
   "metadata": {},
   "outputs": [],
   "source": [
    "myindex= player_guess()"
   ]
  },
  {
   "cell_type": "code",
   "execution_count": 42,
   "id": "109b9772",
   "metadata": {},
   "outputs": [
    {
     "data": {
      "text/plain": [
       "0"
      ]
     },
     "execution_count": 42,
     "metadata": {},
     "output_type": "execute_result"
    }
   ],
   "source": [
    "myindex"
   ]
  },
  {
   "cell_type": "code",
   "execution_count": 11,
   "id": "fa7aa28a",
   "metadata": {},
   "outputs": [],
   "source": [
    "def check_guess(cups, guess):\n",
    "    if cups[guess]=='O':\n",
    "        print('correct Baby')\n",
    "    else:\n",
    "        print('Incorrect')\n",
    "        print(cups)"
   ]
  },
  {
   "cell_type": "code",
   "execution_count": 12,
   "id": "a2104ab2",
   "metadata": {},
   "outputs": [
    {
     "name": "stdout",
     "output_type": "stream",
     "text": [
      "correct Baby\n"
     ]
    }
   ],
   "source": [
    "# Initial List\n",
    "cups = [' ',' ','O']\n",
    "\n",
    "# Shuffle It\n",
    "mix_list = shuffle_list(cups)\n",
    "\n",
    "# Get User's Guess\n",
    "guess = player_guess()\n",
    "\n",
    "# Check User's Guess\n",
    "#------------------------\n",
    "# Notice how this function takes in the input \n",
    "# based on the output of other functions!\n",
    "check_guess(mix_list,guess)"
   ]
  },
  {
   "attachments": {},
   "cell_type": "markdown",
   "id": "d2939b64",
   "metadata": {},
   "source": [
    "# args and kwargs"
   ]
  },
  {
   "cell_type": "code",
   "execution_count": 1,
   "id": "f614439e",
   "metadata": {},
   "outputs": [],
   "source": [
    "def myfunc(a,b,c,d,s):\n",
    "    #returns 5% of the sumof a and b\n",
    "    return sum((a,b,c,d,s))*0.05"
   ]
  },
  {
   "cell_type": "code",
   "execution_count": 3,
   "id": "e21722c6",
   "metadata": {},
   "outputs": [
    {
     "ename": "TypeError",
     "evalue": "myfunc() takes 2 positional arguments but 6 were given",
     "output_type": "error",
     "traceback": [
      "\u001b[1;31m---------------------------------------------------------------------------\u001b[0m",
      "\u001b[1;31mTypeError\u001b[0m                                 Traceback (most recent call last)",
      "Cell \u001b[1;32mIn[3], line 1\u001b[0m\n\u001b[1;32m----> 1\u001b[0m \u001b[43mmyfunc\u001b[49m\u001b[43m(\u001b[49m\u001b[38;5;241;43m40\u001b[39;49m\u001b[43m,\u001b[49m\u001b[38;5;241;43m60\u001b[39;49m\u001b[43m,\u001b[49m\u001b[38;5;241;43m3\u001b[39;49m\u001b[43m,\u001b[49m\u001b[38;5;241;43m5\u001b[39;49m\u001b[43m,\u001b[49m\u001b[38;5;241;43m6\u001b[39;49m\u001b[43m,\u001b[49m\u001b[38;5;241;43m7\u001b[39;49m\u001b[43m)\u001b[49m\n",
      "\u001b[1;31mTypeError\u001b[0m: myfunc() takes 2 positional arguments but 6 were given"
     ]
    }
   ],
   "source": [
    "myfunc(40,60,3,5,6,7)x"
   ]
  },
  {
   "cell_type": "code",
   "execution_count": 6,
   "id": "73c6eb03",
   "metadata": {},
   "outputs": [],
   "source": [
    "def myfunc(*args):\n",
    "    return sum(args)*0.05\n",
    "\n",
    "#args can be written as *spam or anything after *"
   ]
  },
  {
   "cell_type": "code",
   "execution_count": 5,
   "id": "db0122ed",
   "metadata": {},
   "outputs": [
    {
     "data": {
      "text/plain": [
       "6.300000000000001"
      ]
     },
     "execution_count": 5,
     "metadata": {},
     "output_type": "execute_result"
    }
   ],
   "source": [
    "myfunc(30,39,57)\n",
    "#args returns  a tuples"
   ]
  },
  {
   "cell_type": "code",
   "execution_count": 7,
   "id": "334fd69c",
   "metadata": {},
   "outputs": [],
   "source": [
    "def myfunc(*spam):\n",
    "    return sum(spam)*0.05"
   ]
  },
  {
   "cell_type": "code",
   "execution_count": 8,
   "id": "bf8eb845",
   "metadata": {},
   "outputs": [
    {
     "data": {
      "text/plain": [
       "18.7"
      ]
     },
     "execution_count": 8,
     "metadata": {},
     "output_type": "execute_result"
    }
   ],
   "source": [
    "myfunc(274,100)"
   ]
  },
  {
   "cell_type": "code",
   "execution_count": 9,
   "id": "34d0cc85",
   "metadata": {},
   "outputs": [],
   "source": [
    "#**kwargs , it reyrns a dict, its stores key value pairs\n",
    "# u can use kwargs as **spam also \n",
    "\n",
    "def myfunc(**kwargs):\n",
    "    print(kwargs)\n",
    "    if 'fruit'in kwargs:\n",
    "        print('my fruits is {}'.format(kwargs['fruit']))\n",
    "    else:\n",
    "        print('no fruit')\n",
    "\n"
   ]
  },
  {
   "cell_type": "code",
   "execution_count": 10,
   "id": "b8b88c47",
   "metadata": {},
   "outputs": [
    {
     "name": "stdout",
     "output_type": "stream",
     "text": [
      "{'fruit': 'apple'}\n",
      "my fruits is apple\n"
     ]
    }
   ],
   "source": [
    "myfunc(fruit='apple')"
   ]
  },
  {
   "cell_type": "code",
   "execution_count": 3,
   "id": "9727daf1",
   "metadata": {},
   "outputs": [],
   "source": [
    "def myfunc(*args,**kwargs ):\n",
    "    print(kwargs)\n",
    "    print(*args)\n",
    "    print('my fruits is {} of {}'.format(kwargs['fruit'], args[0]))"
   ]
  },
  {
   "cell_type": "code",
   "execution_count": 5,
   "id": "6f2c38e9",
   "metadata": {},
   "outputs": [
    {
     "name": "stdout",
     "output_type": "stream",
     "text": [
      "{'fruit': 'apple'}\n",
      "10 2 3 4\n",
      "my fruits is apple of 10\n"
     ]
    }
   ],
   "source": [
    "myfunc(10,2,3,4,fruit=\"apple\")"
   ]
  },
  {
   "cell_type": "code",
   "execution_count": null,
   "id": "46faec8f",
   "metadata": {},
   "outputs": [],
   "source": []
  }
 ],
 "metadata": {
  "kernelspec": {
   "display_name": "Python 3 (ipykernel)",
   "language": "python",
   "name": "python3"
  },
  "language_info": {
   "codemirror_mode": {
    "name": "ipython",
    "version": 3
   },
   "file_extension": ".py",
   "mimetype": "text/x-python",
   "name": "python",
   "nbconvert_exporter": "python",
   "pygments_lexer": "ipython3",
   "version": "3.10.9"
  }
 },
 "nbformat": 4,
 "nbformat_minor": 5
}
