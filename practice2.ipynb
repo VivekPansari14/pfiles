{
 "cells": [
  {
   "cell_type": "code",
   "execution_count": 62,
   "id": "d97864d3",
   "metadata": {},
   "outputs": [
    {
     "name": "stdout",
     "output_type": "stream",
     "text": [
      "Overwriting myfile.txt\n"
     ]
    }
   ],
   "source": [
    "%%writefile myfile.txt\n",
    "this is a file\n",
    "it has text in it\n",
    "fuck you"
   ]
  },
  {
   "cell_type": "code",
   "execution_count": 63,
   "id": "e768dac1",
   "metadata": {},
   "outputs": [],
   "source": [
    "myfile= open('myfile.txt')"
   ]
  },
  {
   "cell_type": "code",
   "execution_count": 5,
   "id": "c2bb3dda",
   "metadata": {},
   "outputs": [
    {
     "ename": "FileNotFoundError",
     "evalue": "[Errno 2] No such file or directory: 'my_files.txt'",
     "output_type": "error",
     "traceback": [
      "\u001b[1;31m---------------------------------------------------------------------------\u001b[0m",
      "\u001b[1;31mFileNotFoundError\u001b[0m                         Traceback (most recent call last)",
      "Cell \u001b[1;32mIn[5], line 1\u001b[0m\n\u001b[1;32m----> 1\u001b[0m myfile\u001b[38;5;241m=\u001b[39m\u001b[38;5;28;43mopen\u001b[39;49m\u001b[43m(\u001b[49m\u001b[38;5;124;43m'\u001b[39;49m\u001b[38;5;124;43mmy_files.txt\u001b[39;49m\u001b[38;5;124;43m'\u001b[39;49m\u001b[43m)\u001b[49m\n",
      "File \u001b[1;32m~\\anaconda3\\lib\\site-packages\\IPython\\core\\interactiveshell.py:282\u001b[0m, in \u001b[0;36m_modified_open\u001b[1;34m(file, *args, **kwargs)\u001b[0m\n\u001b[0;32m    275\u001b[0m \u001b[38;5;28;01mif\u001b[39;00m file \u001b[38;5;129;01min\u001b[39;00m {\u001b[38;5;241m0\u001b[39m, \u001b[38;5;241m1\u001b[39m, \u001b[38;5;241m2\u001b[39m}:\n\u001b[0;32m    276\u001b[0m     \u001b[38;5;28;01mraise\u001b[39;00m \u001b[38;5;167;01mValueError\u001b[39;00m(\n\u001b[0;32m    277\u001b[0m         \u001b[38;5;124mf\u001b[39m\u001b[38;5;124m\"\u001b[39m\u001b[38;5;124mIPython won\u001b[39m\u001b[38;5;124m'\u001b[39m\u001b[38;5;124mt let you open fd=\u001b[39m\u001b[38;5;132;01m{\u001b[39;00mfile\u001b[38;5;132;01m}\u001b[39;00m\u001b[38;5;124m by default \u001b[39m\u001b[38;5;124m\"\u001b[39m\n\u001b[0;32m    278\u001b[0m         \u001b[38;5;124m\"\u001b[39m\u001b[38;5;124mas it is likely to crash IPython. If you know what you are doing, \u001b[39m\u001b[38;5;124m\"\u001b[39m\n\u001b[0;32m    279\u001b[0m         \u001b[38;5;124m\"\u001b[39m\u001b[38;5;124myou can use builtins\u001b[39m\u001b[38;5;124m'\u001b[39m\u001b[38;5;124m open.\u001b[39m\u001b[38;5;124m\"\u001b[39m\n\u001b[0;32m    280\u001b[0m     )\n\u001b[1;32m--> 282\u001b[0m \u001b[38;5;28;01mreturn\u001b[39;00m io_open(file, \u001b[38;5;241m*\u001b[39margs, \u001b[38;5;241m*\u001b[39m\u001b[38;5;241m*\u001b[39mkwargs)\n",
      "\u001b[1;31mFileNotFoundError\u001b[0m: [Errno 2] No such file or directory: 'my_files.txt'"
     ]
    }
   ],
   "source": [
    "myfile=open('my_files.txt')"
   ]
  },
  {
   "cell_type": "code",
   "execution_count": 6,
   "id": "8c4ee3ea",
   "metadata": {},
   "outputs": [
    {
     "data": {
      "text/plain": [
       "'C:\\\\Users\\\\DELL\\\\Desktop\\\\pfiles'"
      ]
     },
     "execution_count": 6,
     "metadata": {},
     "output_type": "execute_result"
    }
   ],
   "source": [
    "pwd"
   ]
  },
  {
   "cell_type": "code",
   "execution_count": 16,
   "id": "89f18a0f",
   "metadata": {},
   "outputs": [
    {
     "data": {
      "text/plain": [
       "'this is a file\\nit has text in it\\nfuck you\\n'"
      ]
     },
     "execution_count": 16,
     "metadata": {},
     "output_type": "execute_result"
    }
   ],
   "source": [
    "myfile.read()"
   ]
  },
  {
   "cell_type": "code",
   "execution_count": 17,
   "id": "cd8b4812",
   "metadata": {},
   "outputs": [
    {
     "data": {
      "text/plain": [
       "''"
      ]
     },
     "execution_count": 17,
     "metadata": {},
     "output_type": "execute_result"
    }
   ],
   "source": [
    "myfile.read()"
   ]
  },
  {
   "cell_type": "code",
   "execution_count": 20,
   "id": "473b29ca",
   "metadata": {},
   "outputs": [
    {
     "data": {
      "text/plain": [
       "0"
      ]
     },
     "execution_count": 20,
     "metadata": {},
     "output_type": "execute_result"
    }
   ],
   "source": [
    "#the cursor is at the end of the string, we nee to get back to the top to read the whole file again\n",
    "myfile.seek(0)"
   ]
  },
  {
   "cell_type": "code",
   "execution_count": 21,
   "id": "984ccc0e",
   "metadata": {},
   "outputs": [
    {
     "data": {
      "text/plain": [
       "'this is a file\\nit has text in it\\nfuck you\\n'"
      ]
     },
     "execution_count": 21,
     "metadata": {},
     "output_type": "execute_result"
    }
   ],
   "source": [
    "myfile.read()"
   ]
  },
  {
   "cell_type": "code",
   "execution_count": 28,
   "id": "e37bed87",
   "metadata": {},
   "outputs": [
    {
     "data": {
      "text/plain": [
       "0"
      ]
     },
     "execution_count": 28,
     "metadata": {},
     "output_type": "execute_result"
    }
   ],
   "source": [
    "myfile.seek(0)"
   ]
  },
  {
   "cell_type": "code",
   "execution_count": 29,
   "id": "9b6c33b3",
   "metadata": {},
   "outputs": [
    {
     "data": {
      "text/plain": [
       "['this is a file\\n', 'it has text in it\\n', 'fuck you\\n']"
      ]
     },
     "execution_count": 29,
     "metadata": {},
     "output_type": "execute_result"
    }
   ],
   "source": [
    "myfile.readlines()"
   ]
  },
  {
   "cell_type": "code",
   "execution_count": 30,
   "id": "666a6612",
   "metadata": {},
   "outputs": [],
   "source": [
    "myfile.close()"
   ]
  },
  {
   "cell_type": "code",
   "execution_count": 31,
   "id": "fa7e033d",
   "metadata": {},
   "outputs": [],
   "source": [
    "with open('myfile.txt') as newfile: contents= newfile.read()"
   ]
  },
  {
   "cell_type": "markdown",
   "id": "2360c206",
   "metadata": {},
   "source": [
    "##### it adds the contents of the myfile to newone so that we dont have to manually close file all the time"
   ]
  },
  {
   "cell_type": "code",
   "execution_count": 32,
   "id": "e6121dc7",
   "metadata": {},
   "outputs": [
    {
     "data": {
      "text/plain": [
       "'this is a file\\nit has text in it\\nfuck you\\n'"
      ]
     },
     "execution_count": 32,
     "metadata": {},
     "output_type": "execute_result"
    }
   ],
   "source": [
    "contents"
   ]
  },
  {
   "cell_type": "code",
   "execution_count": 34,
   "id": "2bdcf52d",
   "metadata": {},
   "outputs": [],
   "source": [
    "myfile.close()"
   ]
  },
  {
   "cell_type": "code",
   "execution_count": 35,
   "id": "bafe4c05",
   "metadata": {},
   "outputs": [
    {
     "data": {
      "text/plain": [
       "'this is a file\\nit has text in it\\nfuck you\\n'"
      ]
     },
     "execution_count": 35,
     "metadata": {},
     "output_type": "execute_result"
    }
   ],
   "source": [
    "contents"
   ]
  },
  {
   "cell_type": "code",
   "execution_count": 66,
   "id": "05c2bd21",
   "metadata": {},
   "outputs": [],
   "source": [
    "with open('myfile.txt', mode='r') as newfile: contents= newfile.read()"
   ]
  },
  {
   "cell_type": "code",
   "execution_count": 67,
   "id": "52a431b3",
   "metadata": {},
   "outputs": [
    {
     "data": {
      "text/plain": [
       "'this is a file\\nit has text in it\\nfuck you\\n'"
      ]
     },
     "execution_count": 67,
     "metadata": {},
     "output_type": "execute_result"
    }
   ],
   "source": [
    "contents"
   ]
  },
  {
   "cell_type": "markdown",
   "id": "5401b0c5",
   "metadata": {},
   "source": [
    "### comparison operator in Python"
   ]
  },
  {
   "cell_type": "code",
   "execution_count": 7,
   "id": "f8d0f953",
   "metadata": {},
   "outputs": [],
   "source": [
    "# ==, >=,<=,!="
   ]
  },
  {
   "cell_type": "code",
   "execution_count": 2,
   "id": "fa0c2b9b",
   "metadata": {},
   "outputs": [
    {
     "data": {
      "text/plain": [
       "True"
      ]
     },
     "execution_count": 2,
     "metadata": {},
     "output_type": "execute_result"
    }
   ],
   "source": [
    "2<3"
   ]
  },
  {
   "cell_type": "code",
   "execution_count": 4,
   "id": "a7dd6df1",
   "metadata": {},
   "outputs": [
    {
     "data": {
      "text/plain": [
       "False"
      ]
     },
     "execution_count": 4,
     "metadata": {},
     "output_type": "execute_result"
    }
   ],
   "source": [
    "2>=3"
   ]
  },
  {
   "cell_type": "code",
   "execution_count": 5,
   "id": "56495c20",
   "metadata": {},
   "outputs": [
    {
     "data": {
      "text/plain": [
       "True"
      ]
     },
     "execution_count": 5,
     "metadata": {},
     "output_type": "execute_result"
    }
   ],
   "source": [
    "2!=3"
   ]
  },
  {
   "cell_type": "code",
   "execution_count": 6,
   "id": "b735e1c0",
   "metadata": {},
   "outputs": [
    {
     "data": {
      "text/plain": [
       "True"
      ]
     },
     "execution_count": 6,
     "metadata": {},
     "output_type": "execute_result"
    }
   ],
   "source": [
    "2==2"
   ]
  },
  {
   "cell_type": "markdown",
   "id": "83510307",
   "metadata": {},
   "source": [
    "## Logical operators"
   ]
  },
  {
   "cell_type": "code",
   "execution_count": 8,
   "id": "389ba73c",
   "metadata": {},
   "outputs": [],
   "source": [
    "#and ,or, not"
   ]
  },
  {
   "cell_type": "code",
   "execution_count": 9,
   "id": "181f715b",
   "metadata": {},
   "outputs": [
    {
     "data": {
      "text/plain": [
       "True"
      ]
     },
     "execution_count": 9,
     "metadata": {},
     "output_type": "execute_result"
    }
   ],
   "source": [
    "1<2"
   ]
  },
  {
   "cell_type": "code",
   "execution_count": 10,
   "id": "b8b68f0b",
   "metadata": {},
   "outputs": [
    {
     "data": {
      "text/plain": [
       "True"
      ]
     },
     "execution_count": 10,
     "metadata": {},
     "output_type": "execute_result"
    }
   ],
   "source": [
    "2<3"
   ]
  },
  {
   "cell_type": "code",
   "execution_count": 11,
   "id": "74dbfe25",
   "metadata": {},
   "outputs": [
    {
     "data": {
      "text/plain": [
       "True"
      ]
     },
     "execution_count": 11,
     "metadata": {},
     "output_type": "execute_result"
    }
   ],
   "source": [
    "1<2<3"
   ]
  },
  {
   "cell_type": "code",
   "execution_count": 12,
   "id": "b8897267",
   "metadata": {},
   "outputs": [
    {
     "data": {
      "text/plain": [
       "False"
      ]
     },
     "execution_count": 12,
     "metadata": {},
     "output_type": "execute_result"
    }
   ],
   "source": [
    "1<2 and 2>3"
   ]
  },
  {
   "cell_type": "code",
   "execution_count": 13,
   "id": "5e4e2110",
   "metadata": {},
   "outputs": [
    {
     "data": {
      "text/plain": [
       "True"
      ]
     },
     "execution_count": 13,
     "metadata": {},
     "output_type": "execute_result"
    }
   ],
   "source": [
    "1<2 and 2<3"
   ]
  },
  {
   "cell_type": "code",
   "execution_count": 16,
   "id": "fb056c16",
   "metadata": {},
   "outputs": [
    {
     "data": {
      "text/plain": [
       "True"
      ]
     },
     "execution_count": 16,
     "metadata": {},
     "output_type": "execute_result"
    }
   ],
   "source": [
    "'h'=='h' and 2==2 # both sides need to be true"
   ]
  },
  {
   "cell_type": "code",
   "execution_count": 19,
   "id": "eb26c10b",
   "metadata": {},
   "outputs": [
    {
     "data": {
      "text/plain": [
       "True"
      ]
     },
     "execution_count": 19,
     "metadata": {},
     "output_type": "execute_result"
    }
   ],
   "source": [
    "1==1 or 2==3 # only one of them need to be true"
   ]
  },
  {
   "cell_type": "code",
   "execution_count": 20,
   "id": "0947a23e",
   "metadata": {},
   "outputs": [
    {
     "data": {
      "text/plain": [
       "True"
      ]
     },
     "execution_count": 20,
     "metadata": {},
     "output_type": "execute_result"
    }
   ],
   "source": [
    "1==1"
   ]
  },
  {
   "cell_type": "code",
   "execution_count": 21,
   "id": "2bbb8d1d",
   "metadata": {},
   "outputs": [
    {
     "data": {
      "text/plain": [
       "False"
      ]
     },
     "execution_count": 21,
     "metadata": {},
     "output_type": "execute_result"
    }
   ],
   "source": [
    "not(1==1)"
   ]
  },
  {
   "cell_type": "code",
   "execution_count": 23,
   "id": "01938863",
   "metadata": {},
   "outputs": [
    {
     "data": {
      "text/plain": [
       "False"
      ]
     },
     "execution_count": 23,
     "metadata": {},
     "output_type": "execute_result"
    }
   ],
   "source": [
    "not 1==1 # opposite of the value, its better than !="
   ]
  },
  {
   "cell_type": "code",
   "execution_count": 24,
   "id": "7c1c0e6e",
   "metadata": {},
   "outputs": [
    {
     "data": {
      "text/plain": [
       "False"
      ]
     },
     "execution_count": 24,
     "metadata": {},
     "output_type": "execute_result"
    }
   ],
   "source": [
    "1!=1"
   ]
  },
  {
   "cell_type": "markdown",
   "id": "f7d6e381",
   "metadata": {},
   "source": [
    "# IF, ELIf, else"
   ]
  },
  {
   "cell_type": "code",
   "execution_count": 1,
   "id": "80530c28",
   "metadata": {},
   "outputs": [
    {
     "name": "stdout",
     "output_type": "stream",
     "text": [
      "true\n"
     ]
    }
   ],
   "source": [
    "if True:\n",
    "    print('true')"
   ]
  },
  {
   "cell_type": "code",
   "execution_count": 3,
   "id": "a0d393e6",
   "metadata": {},
   "outputs": [
    {
     "name": "stdout",
     "output_type": "stream",
     "text": [
      "its true|\n"
     ]
    }
   ],
   "source": [
    "if 2<3:\n",
    "    print('its true|')\n",
    "else:\n",
    "    print('mf')"
   ]
  },
  {
   "cell_type": "code",
   "execution_count": 12,
   "id": "4ad5e5a9",
   "metadata": {},
   "outputs": [
    {
     "name": "stdout",
     "output_type": "stream",
     "text": [
      "sruvek\n"
     ]
    }
   ],
   "source": [
    "my_name= 'vivek'\n",
    "if my_name== 'sruti':\n",
    "  print('viruti')\n",
    "elif my_name =='monsari':\n",
    "    print('Pansarimodi')\n",
    " \n",
    "else :\n",
    "    print('sruvek')"
   ]
  },
  {
   "cell_type": "markdown",
   "id": "6a37df44",
   "metadata": {},
   "source": [
    "# FOR loop"
   ]
  },
  {
   "cell_type": "code",
   "execution_count": 2,
   "id": "83f1d800",
   "metadata": {},
   "outputs": [],
   "source": [
    "mylist=[1,12,3,4,5,5,6,6,7,8,88,]"
   ]
  },
  {
   "cell_type": "code",
   "execution_count": 5,
   "id": "df0c08af",
   "metadata": {},
   "outputs": [
    {
     "name": "stdout",
     "output_type": "stream",
     "text": [
      "1\n",
      "12\n",
      "3\n",
      "4\n",
      "5\n",
      "5\n",
      "6\n",
      "6\n",
      "7\n",
      "8\n",
      "88\n"
     ]
    }
   ],
   "source": [
    "for jelly in mylist:\n",
    " print(jelly)"
   ]
  },
  {
   "cell_type": "code",
   "execution_count": 7,
   "id": "60befe3f",
   "metadata": {},
   "outputs": [
    {
     "name": "stdout",
     "output_type": "stream",
     "text": [
      "jelly\n",
      "jelly\n",
      "jelly\n",
      "jelly\n",
      "jelly\n",
      "jelly\n",
      "jelly\n",
      "jelly\n",
      "jelly\n",
      "jelly\n",
      "jelly\n"
     ]
    }
   ],
   "source": [
    "for num in mylist:\n",
    " print('jelly')"
   ]
  },
  {
   "cell_type": "code",
   "execution_count": 8,
   "id": "6ffc528a",
   "metadata": {},
   "outputs": [
    {
     "data": {
      "text/plain": [
       "[1, 12, 3, 4, 5, 5, 6, 6, 7, 8, 88]"
      ]
     },
     "execution_count": 8,
     "metadata": {},
     "output_type": "execute_result"
    }
   ],
   "source": [
    "mylist"
   ]
  },
  {
   "cell_type": "code",
   "execution_count": 12,
   "id": "3cc734fb",
   "metadata": {},
   "outputs": [
    {
     "name": "stdout",
     "output_type": "stream",
     "text": [
      "odd numbers 1\n",
      "12\n",
      "odd numbers 3\n",
      "4\n",
      "odd numbers 5\n",
      "odd numbers 5\n",
      "6\n",
      "6\n",
      "odd numbers 7\n",
      "8\n",
      "88\n"
     ]
    }
   ],
   "source": [
    "for n in mylist:\n",
    "    if n%2==0:\n",
    "        print(n)\n",
    "    else:\n",
    "        print(f'odd numbers {n}')"
   ]
  },
  {
   "cell_type": "code",
   "execution_count": 16,
   "id": "eeeb38ab",
   "metadata": {},
   "outputs": [
    {
     "name": "stdout",
     "output_type": "stream",
     "text": [
      "145\n"
     ]
    }
   ],
   "source": [
    "#sum of all num in list\n",
    "list_sum =0\n",
    "for n in mylist:\n",
    "    list_sum = list_sum+ n\n",
    "    \n",
    "print (list_sum) #indentation is very imp"
   ]
  },
  {
   "cell_type": "code",
   "execution_count": 17,
   "id": "ec06894e",
   "metadata": {},
   "outputs": [
    {
     "name": "stdout",
     "output_type": "stream",
     "text": [
      "h\n",
      "e\n",
      "l\n",
      "l\n",
      "o\n",
      " \n",
      "w\n",
      "o\n",
      "r\n",
      "l\n",
      "d\n"
     ]
    }
   ],
   "source": [
    "for letter in 'hello world':\n",
    "    print(letter)"
   ]
  },
  {
   "cell_type": "code",
   "execution_count": 18,
   "id": "65a1e2dc",
   "metadata": {},
   "outputs": [],
   "source": [
    "mylist=[(1,2),(3,4),(5,6)]"
   ]
  },
  {
   "cell_type": "code",
   "execution_count": 20,
   "id": "3cf312a2",
   "metadata": {},
   "outputs": [
    {
     "name": "stdout",
     "output_type": "stream",
     "text": [
      "(1, 2)\n",
      "(3, 4)\n",
      "(5, 6)\n"
     ]
    }
   ],
   "source": [
    "for tup in mylist:\n",
    "    print(tup)"
   ]
  },
  {
   "cell_type": "code",
   "execution_count": 22,
   "id": "21d85b32",
   "metadata": {},
   "outputs": [
    {
     "name": "stdout",
     "output_type": "stream",
     "text": [
      "1\n",
      "2\n",
      "3\n",
      "4\n",
      "5\n",
      "6\n"
     ]
    }
   ],
   "source": [
    "for a,b in mylist:\n",
    "    print(a)\n",
    "    print(b)"
   ]
  },
  {
   "cell_type": "code",
   "execution_count": 23,
   "id": "9f354cdc",
   "metadata": {},
   "outputs": [],
   "source": [
    "#dictionaries, unordered\n",
    "d={'k1':1, 'k2':2, 'k3':3}"
   ]
  },
  {
   "cell_type": "code",
   "execution_count": 28,
   "id": "5381b211",
   "metadata": {},
   "outputs": [
    {
     "name": "stdout",
     "output_type": "stream",
     "text": [
      "1\n",
      "2\n",
      "3\n"
     ]
    }
   ],
   "source": [
    "for key, value in d.items():\n",
    "    print (value)"
   ]
  },
  {
   "cell_type": "markdown",
   "id": "c9118609",
   "metadata": {},
   "source": [
    "## while loop"
   ]
  },
  {
   "cell_type": "code",
   "execution_count": 19,
   "id": "dcec37b6",
   "metadata": {},
   "outputs": [
    {
     "name": "stdout",
     "output_type": "stream",
     "text": [
      "the value of x is 0\n",
      "the value of x is 1\n",
      "the value of x is 2\n",
      "the value of x is 3\n",
      "the value of x is 4\n",
      "greater x\n"
     ]
    }
   ],
   "source": [
    "x =0\n",
    "while x<5:\n",
    "    print(f'the value of x is {x}')\n",
    "    x+=1\n",
    "else:\n",
    "    print('greater x')\n",
    "    \n",
    " #check for infinite looop   \n",
    "    "
   ]
  },
  {
   "cell_type": "markdown",
   "id": "97f2ecb8",
   "metadata": {},
   "source": [
    "\n",
    "### break, continue, pass "
   ]
  },
  {
   "cell_type": "code",
   "execution_count": 10,
   "id": "62cc0bda",
   "metadata": {},
   "outputs": [
    {
     "name": "stdout",
     "output_type": "stream",
     "text": [
      "1\n",
      "1\n",
      "3\n",
      "4\n",
      "4\n",
      "5\n",
      "fuck u\n"
     ]
    }
   ],
   "source": [
    "listt=[1,1,3,4,4,5]\n",
    "for item in listt:\n",
    "    #comment is not sufficient here we need PASS\n",
    "    pass\n",
    "    print(item)\n",
    "\n",
    "print('fuck u')"
   ]
  },
  {
   "cell_type": "code",
   "execution_count": 16,
   "id": "25b3d429",
   "metadata": {},
   "outputs": [
    {
     "name": "stdout",
     "output_type": "stream",
     "text": [
      "1\n",
      "1\n",
      "3\n",
      "5\n"
     ]
    }
   ],
   "source": [
    "listt=[1,1,3,4,4,5]\n",
    "for item in listt:\n",
    "    if item==4:\n",
    "        continue\n",
    "    print(item)"
   ]
  },
  {
   "cell_type": "code",
   "execution_count": 17,
   "id": "2fc4002a",
   "metadata": {},
   "outputs": [
    {
     "name": "stdout",
     "output_type": "stream",
     "text": [
      "the value of x is 0\n",
      "the value of x is 1\n"
     ]
    }
   ],
   "source": [
    "x =0\n",
    "while x<5:\n",
    "    if x==2:\n",
    "        break\n",
    "    print(f'the value of x is {x}')\n",
    "    x+=1"
   ]
  },
  {
   "cell_type": "markdown",
   "id": "e5b15996",
   "metadata": {},
   "source": [
    "## useful operators\n"
   ]
  },
  {
   "cell_type": "code",
   "execution_count": 3,
   "id": "9b51b053",
   "metadata": {},
   "outputs": [
    {
     "name": "stdout",
     "output_type": "stream",
     "text": [
      "1\n",
      "3\n",
      "5\n",
      "7\n",
      "9\n"
     ]
    }
   ],
   "source": [
    "#range operator\n",
    "for num in range(1,11, 2): #step size also 2\n",
    "    print(num)"
   ]
  },
  {
   "cell_type": "code",
   "execution_count": 5,
   "id": "45f90f4c",
   "metadata": {},
   "outputs": [
    {
     "data": {
      "text/plain": [
       "[1, 4, 7]"
      ]
     },
     "execution_count": 5,
     "metadata": {},
     "output_type": "execute_result"
    }
   ],
   "source": [
    "list (range(1,10,3))"
   ]
  },
  {
   "cell_type": "code",
   "execution_count": 8,
   "id": "34252587",
   "metadata": {},
   "outputs": [
    {
     "name": "stdout",
     "output_type": "stream",
     "text": [
      "(0, 'a')\n",
      "(1, 'b')\n",
      "(2, 'c')\n",
      "(3, 'd')\n",
      "(4, 'e')\n"
     ]
    }
   ],
   "source": [
    "count=0\n",
    "word='abcde'\n",
    "\n",
    "for letter in enumerate(word):\n",
    "    print(letter) #generates tuples\n",
    "    \n",
    "    "
   ]
  },
  {
   "cell_type": "code",
   "execution_count": 12,
   "id": "aa71758b",
   "metadata": {},
   "outputs": [
    {
     "name": "stdout",
     "output_type": "stream",
     "text": [
      "a\n",
      "0 \n",
      "\n",
      "b\n",
      "1 \n",
      "\n",
      "c\n",
      "2 \n",
      "\n",
      "d\n",
      "3 \n",
      "\n",
      "e\n",
      "4 \n",
      "\n"
     ]
    }
   ],
   "source": [
    "count=0\n",
    "word='abcde'\n",
    "\n",
    "for index, letter in enumerate(word):\n",
    "    print(letter)\n",
    "    print(index,'\\n')#generates tuples"
   ]
  },
  {
   "cell_type": "code",
   "execution_count": 18,
   "id": "4dfa9ff9",
   "metadata": {},
   "outputs": [],
   "source": [
    "mylist1=[1,2,3,4]\n",
    "mylist2=['a','b','c','d']"
   ]
  },
  {
   "cell_type": "code",
   "execution_count": 19,
   "id": "8fa791ee",
   "metadata": {},
   "outputs": [
    {
     "name": "stdout",
     "output_type": "stream",
     "text": [
      "(1, 'a')\n",
      "(2, 'b')\n",
      "(3, 'c')\n",
      "(4, 'd')\n"
     ]
    }
   ],
   "source": [
    "for item in zip(mylist1,mylist2):\n",
    "    print(item)"
   ]
  },
  {
   "cell_type": "code",
   "execution_count": 20,
   "id": "905b5a75",
   "metadata": {},
   "outputs": [
    {
     "data": {
      "text/plain": [
       "[(1, 'a'), (2, 'b'), (3, 'c'), (4, 'd')]"
      ]
     },
     "execution_count": 20,
     "metadata": {},
     "output_type": "execute_result"
    }
   ],
   "source": [
    "list(zip(mylist1,mylist2))"
   ]
  },
  {
   "cell_type": "code",
   "execution_count": 22,
   "id": "7c276a8f",
   "metadata": {},
   "outputs": [
    {
     "data": {
      "text/plain": [
       "False"
      ]
     },
     "execution_count": 22,
     "metadata": {},
     "output_type": "execute_result"
    }
   ],
   "source": [
    "'x' in [1,2,3]"
   ]
  },
  {
   "cell_type": "code",
   "execution_count": 24,
   "id": "20dfa931",
   "metadata": {},
   "outputs": [
    {
     "data": {
      "text/plain": [
       "False"
      ]
     },
     "execution_count": 24,
     "metadata": {},
     "output_type": "execute_result"
    }
   ],
   "source": [
    "'key ' in {'key': 1}"
   ]
  },
  {
   "cell_type": "code",
   "execution_count": 25,
   "id": "4882864c",
   "metadata": {},
   "outputs": [
    {
     "data": {
      "text/plain": [
       "True"
      ]
     },
     "execution_count": 25,
     "metadata": {},
     "output_type": "execute_result"
    }
   ],
   "source": [
    "'x' in 'xyz'"
   ]
  },
  {
   "cell_type": "code",
   "execution_count": 26,
   "id": "da0a60bd",
   "metadata": {},
   "outputs": [],
   "source": [
    "#min() and max()"
   ]
  },
  {
   "cell_type": "code",
   "execution_count": 27,
   "id": "8564e0a6",
   "metadata": {},
   "outputs": [],
   "source": [
    "from random import shuffle  \n",
    "#its a shuffle func.\n"
   ]
  },
  {
   "cell_type": "code",
   "execution_count": 29,
   "id": "3fd0f409",
   "metadata": {},
   "outputs": [],
   "source": [
    "mylist=[1,3,4,2,356,6,7,765,4,6,4]"
   ]
  },
  {
   "cell_type": "code",
   "execution_count": 30,
   "id": "c6c30155",
   "metadata": {},
   "outputs": [],
   "source": [
    "shuffle(mylist)"
   ]
  },
  {
   "cell_type": "code",
   "execution_count": 32,
   "id": "80c4fa51",
   "metadata": {},
   "outputs": [
    {
     "data": {
      "text/plain": [
       "[765, 3, 4, 4, 356, 7, 6, 6, 4, 1, 2]"
      ]
     },
     "execution_count": 32,
     "metadata": {},
     "output_type": "execute_result"
    }
   ],
   "source": [
    "mylist"
   ]
  },
  {
   "cell_type": "code",
   "execution_count": 33,
   "id": "587ca18a",
   "metadata": {},
   "outputs": [],
   "source": [
    "from random import  randint\n"
   ]
  },
  {
   "cell_type": "code",
   "execution_count": 35,
   "id": "66a61b0f",
   "metadata": {},
   "outputs": [],
   "source": [
    "num=randint(0,100)"
   ]
  },
  {
   "cell_type": "code",
   "execution_count": 36,
   "id": "55cc25bb",
   "metadata": {},
   "outputs": [
    {
     "data": {
      "text/plain": [
       "2"
      ]
     },
     "execution_count": 36,
     "metadata": {},
     "output_type": "execute_result"
    }
   ],
   "source": [
    "num"
   ]
  },
  {
   "cell_type": "code",
   "execution_count": 38,
   "id": "20987451",
   "metadata": {},
   "outputs": [
    {
     "name": "stdout",
     "output_type": "stream",
     "text": [
      "enter your number:5\n"
     ]
    }
   ],
   "source": [
    "result= input ('enter your number:')\n",
    "#it store like string remember\n"
   ]
  },
  {
   "cell_type": "code",
   "execution_count": 40,
   "id": "d3d1b32b",
   "metadata": {},
   "outputs": [],
   "source": [
    "result=int(result)"
   ]
  },
  {
   "cell_type": "code",
   "execution_count": 41,
   "id": "11f25dee",
   "metadata": {},
   "outputs": [
    {
     "data": {
      "text/plain": [
       "5"
      ]
     },
     "execution_count": 41,
     "metadata": {},
     "output_type": "execute_result"
    }
   ],
   "source": [
    "result"
   ]
  },
  {
   "cell_type": "code",
   "execution_count": 42,
   "id": "cca98b87",
   "metadata": {},
   "outputs": [
    {
     "name": "stdout",
     "output_type": "stream",
     "text": [
      "enter your number:5\n"
     ]
    }
   ],
   "source": [
    "result= int( input ('enter your number:'))"
   ]
  },
  {
   "cell_type": "code",
   "execution_count": 43,
   "id": "bd951fe3",
   "metadata": {},
   "outputs": [
    {
     "data": {
      "text/plain": [
       "5"
      ]
     },
     "execution_count": 43,
     "metadata": {},
     "output_type": "execute_result"
    }
   ],
   "source": [
    "result"
   ]
  },
  {
   "cell_type": "markdown",
   "id": "1539fc3e",
   "metadata": {},
   "source": [
    "## list comprehension"
   ]
  },
  {
   "cell_type": "code",
   "execution_count": 1,
   "id": "ea348ebd",
   "metadata": {},
   "outputs": [],
   "source": [
    "mystring=\"hello\"\n",
    "mylist=[]"
   ]
  },
  {
   "cell_type": "code",
   "execution_count": 2,
   "id": "67fc9f54",
   "metadata": {},
   "outputs": [],
   "source": [
    "for item in mystring:\n",
    "    mylist.append(item)"
   ]
  },
  {
   "cell_type": "code",
   "execution_count": 3,
   "id": "8aae7845",
   "metadata": {},
   "outputs": [
    {
     "data": {
      "text/plain": [
       "['h', 'e', 'l', 'l', 'o']"
      ]
     },
     "execution_count": 3,
     "metadata": {},
     "output_type": "execute_result"
    }
   ],
   "source": [
    "mylist"
   ]
  },
  {
   "cell_type": "code",
   "execution_count": 50,
   "id": "da24785e",
   "metadata": {},
   "outputs": [],
   "source": [
    "#better technique"
   ]
  },
  {
   "cell_type": "code",
   "execution_count": 51,
   "id": "50837f1c",
   "metadata": {},
   "outputs": [],
   "source": [
    "mylist=[letter for letter in mystring]"
   ]
  },
  {
   "cell_type": "code",
   "execution_count": 52,
   "id": "5af437d5",
   "metadata": {},
   "outputs": [
    {
     "data": {
      "text/plain": [
       "['h', 'e', 'l', 'l', 'o']"
      ]
     },
     "execution_count": 52,
     "metadata": {},
     "output_type": "execute_result"
    }
   ],
   "source": [
    "mylist"
   ]
  },
  {
   "cell_type": "code",
   "execution_count": 53,
   "id": "f4ee6261",
   "metadata": {},
   "outputs": [],
   "source": [
    "mylist=[num for num in range(0,11)]"
   ]
  },
  {
   "cell_type": "code",
   "execution_count": 54,
   "id": "009baa91",
   "metadata": {},
   "outputs": [
    {
     "data": {
      "text/plain": [
       "[0, 1, 2, 3, 4, 5, 6, 7, 8, 9, 10]"
      ]
     },
     "execution_count": 54,
     "metadata": {},
     "output_type": "execute_result"
    }
   ],
   "source": [
    "mylist"
   ]
  },
  {
   "cell_type": "code",
   "execution_count": 55,
   "id": "4dafe544",
   "metadata": {},
   "outputs": [
    {
     "data": {
      "text/plain": [
       "[0, 1, 8, 27, 64, 125, 216, 343, 512, 729, 1000]"
      ]
     },
     "execution_count": 55,
     "metadata": {},
     "output_type": "execute_result"
    }
   ],
   "source": [
    "mylist=[num**3 for num in range(0,11)]\n",
    "mylist"
   ]
  },
  {
   "cell_type": "code",
   "execution_count": 56,
   "id": "4599055c",
   "metadata": {},
   "outputs": [],
   "source": [
    "mylist=[num for num in range(0,11) if num%2==0]"
   ]
  },
  {
   "cell_type": "code",
   "execution_count": 57,
   "id": "71fcd66f",
   "metadata": {},
   "outputs": [
    {
     "data": {
      "text/plain": [
       "[0, 2, 4, 6, 8, 10]"
      ]
     },
     "execution_count": 57,
     "metadata": {},
     "output_type": "execute_result"
    }
   ],
   "source": [
    "mylist"
   ]
  },
  {
   "cell_type": "code",
   "execution_count": 58,
   "id": "fe5820e6",
   "metadata": {},
   "outputs": [
    {
     "name": "stdout",
     "output_type": "stream",
     "text": [
      "[2, 3, 5, 4, 6, 10, 6, 9, 15, 8, 12, 20]\n"
     ]
    }
   ],
   "source": [
    "mylist=[]\n",
    "\n",
    "for n in [1,2,3,4]:\n",
    "    for x in [2,3,5]:\n",
    "        mylist.append(n*x)\n",
    "\n",
    "print(mylist)"
   ]
  },
  {
   "cell_type": "code",
   "execution_count": null,
   "id": "235ee757",
   "metadata": {},
   "outputs": [],
   "source": []
  }
 ],
 "metadata": {
  "kernelspec": {
   "display_name": "Python 3 (ipykernel)",
   "language": "python",
   "name": "python3"
  },
  "language_info": {
   "codemirror_mode": {
    "name": "ipython",
    "version": 3
   },
   "file_extension": ".py",
   "mimetype": "text/x-python",
   "name": "python",
   "nbconvert_exporter": "python",
   "pygments_lexer": "ipython3",
   "version": "3.10.9"
  }
 },
 "nbformat": 4,
 "nbformat_minor": 5
}
